{
 "cells": [
  {
   "cell_type": "markdown",
   "id": "d9020ef0-4700-4981-856a-1ce9005b90b3",
   "metadata": {
    "editable": true,
    "slideshow": {
     "slide_type": ""
    },
    "tags": []
   },
   "source": [
    "# Happy Path и пример литературного ноутбука"
   ]
  },
  {
   "cell_type": "markdown",
   "id": "f02bdd8d-b069-4061-8231-0e40bae3648c",
   "metadata": {
    "editable": true,
    "slideshow": {
     "slide_type": ""
    },
    "tags": []
   },
   "source": [
    "Демонстрация основных возможностей литературного ноутбука."
   ]
  },
  {
   "cell_type": "markdown",
   "id": "f2ae44ee-051d-4c05-ac3c-6c85b061534a",
   "metadata": {},
   "source": [
    "Этот ноутбук содержит функцию и класс некого модуля (не имеющего никакого практического смысла - просто демонстрация возможностей)."
   ]
  },
  {
   "cell_type": "markdown",
   "id": "0aa67e36-e02a-4b58-a79d-83f169d91e4c",
   "metadata": {
    "editable": true,
    "slideshow": {
     "slide_type": ""
    },
    "tags": []
   },
   "source": [
    "## Отладка и использование"
   ]
  },
  {
   "cell_type": "markdown",
   "id": "6839c80e-27c2-4db2-994f-1527432c2f1d",
   "metadata": {},
   "source": [
    "Для того, чтобы проверить (не сломалось ли чего) и сгенерировать сам модуль (в нашем случае - `lit_smoke.py`) выполняем ячейки ниже."
   ]
  },
  {
   "cell_type": "code",
   "execution_count": null,
   "id": "7c4a0c54-89e8-4daf-9290-e61eb1a4f932",
   "metadata": {
    "editable": true,
    "slideshow": {
     "slide_type": ""
    },
    "tags": []
   },
   "outputs": [],
   "source": [
    "import asm, lit"
   ]
  },
  {
   "cell_type": "code",
   "execution_count": null,
   "id": "2284e876-91c9-42d6-93e8-59a5fa21e584",
   "metadata": {
    "editable": true,
    "slideshow": {
     "slide_type": ""
    },
    "tags": []
   },
   "outputs": [],
   "source": [
    "lit.genAsmNotebook(\"lit_smoke.ipynb\") # порождает ноутбук lit_smoke_asm.ipynb \n",
    "asm.processFile(\"lit_smoke_asm.ipynb\") # порождает модуль lit_smoke.py\n",
    "asm.processFile(\"lit_smoke_asm.ipynb\",\"test\") # порождает тест сьют test_lit_smoke.py\n",
    "!pytest test_lit_smoke.py # выполняем тесты"
   ]
  },
  {
   "cell_type": "markdown",
   "id": "e1039ed4-f60e-4446-a73c-7f21ef71251d",
   "metadata": {},
   "source": [
    "Для взаимодействия с ГенИИ можно воспользоваться возможностью генерации описания функции."
   ]
  },
  {
   "cell_type": "code",
   "execution_count": null,
   "id": "ad5f002a-fc55-4700-82ab-8ead8d6c34cf",
   "metadata": {
    "editable": true,
    "slideshow": {
     "slide_type": ""
    },
    "tags": []
   },
   "outputs": [],
   "source": [
    "print(lit.genFuncSpec(\"lit_smoke.ipynb\",\"GenSomething\"))"
   ]
  },
  {
   "cell_type": "markdown",
   "id": "62dccc0e-933c-4cea-8f5a-b9ff5da8234a",
   "metadata": {
    "editable": true,
    "slideshow": {
     "slide_type": ""
    },
    "tags": []
   },
   "source": [
    "Ниже собственно определение функции и класса.\n",
    "\n",
    "Обратите внимание на заголовки - для корректной работы лит-компилятора они должны быть не ниже второго уровня (т.е. две решетки), дополнительно заголовки позволяют \"фолдировать\" ноутбук (уменьшая объем визуально видимой информации - это удобно в больших модулях).\n",
    "\n",
    "Для того, чтобы увидеть разметку - нужно раскрыть интерфейс просмотра тэгов в ноутбуке (это делается чуть по-разному в Jupeter Lab и Jupyter Notebook)."
   ]
  },
  {
   "cell_type": "markdown",
   "id": "165b86ba-b7d0-4336-bae3-71d2cfa80800",
   "metadata": {
    "editable": true,
    "slideshow": {
     "slide_type": ""
    },
    "tags": []
   },
   "source": [
    "Ячейка ниже пойдет в модуль - тэг `block`, текущая ячейка (маркдаун) \"никуда не пойдет\", она - часть литературного ноутбука (документации)."
   ]
  },
  {
   "cell_type": "markdown",
   "id": "7b72fe2a-7c9f-4e86-955d-38885492f5fd",
   "metadata": {
    "editable": true,
    "slideshow": {
     "slide_type": ""
    },
    "tags": []
   },
   "source": [
    "Поскольку этот ноутбук - пример, маркдаун ячейки, которые \"как бы\" являются документацией (не частью описания возможностей - эта ячейка и ячейки выше описывают не создаваемый модуль, но возможности литературных ноутбуков) будут иметь в своем начале строку \"(дока)\" просто для того, чтобы отличать эти ячейки (документация модуля) от остальных."
   ]
  },
  {
   "cell_type": "code",
   "execution_count": null,
   "id": "f48ab415-b1f8-4986-bd30-6585ca6e0c2b",
   "metadata": {
    "editable": true,
    "slideshow": {
     "slide_type": ""
    },
    "tags": [
     "block"
    ]
   },
   "outputs": [],
   "source": [
    "from typing import List"
   ]
  },
  {
   "cell_type": "markdown",
   "id": "de8143a8-a846-48f6-aded-cb21f7d07d7d",
   "metadata": {
    "editable": true,
    "slideshow": {
     "slide_type": ""
    },
    "tags": []
   },
   "source": [
    "Ячейка ниже - это часть описания фунации (тэг `function`):\n",
    "\n",
    "* идентификатор до двух двоеточий - имя функции\n",
    "* после двух двоеточий - краткое описание функции\n",
    "    * его видно при фолдировании описания функции\n",
    " \n",
    "После ячейки с тэгом `function` - как, впрочем, и везде в литературном ноутбуке - может следовать любое количество маркдаун ячеек (они не переносятся в модуль) и любое количество кодовых ячеек (без тэгов) - такие ячейки также не переносятся в модуль."
   ]
  },
  {
   "cell_type": "markdown",
   "id": "88b2749f-0a2b-42fc-a7bd-b5c3122fefb2",
   "metadata": {
    "editable": true,
    "slideshow": {
     "slide_type": ""
    },
    "tags": [
     "function"
    ]
   },
   "source": [
    "## GenSomething:: Эта функция делает что-то"
   ]
  },
  {
   "cell_type": "markdown",
   "id": "34a2fac0-1018-4a93-bd9b-7ec08de05a29",
   "metadata": {
    "editable": true,
    "slideshow": {
     "slide_type": ""
    },
    "tags": []
   },
   "source": [
    "(дока) \n",
    "\n",
    "Генерирует список из строк в нужном количестве"
   ]
  },
  {
   "cell_type": "markdown",
   "id": "5478660a-b4fb-4ca9-ad19-44d944e915f9",
   "metadata": {
    "editable": true,
    "slideshow": {
     "slide_type": ""
    },
    "tags": []
   },
   "source": [
    "На мой взгляд неплохо визуально отделять параметры и возвращаемый результат функции. \n",
    "\n",
    "Для этого в этом ноутбуке я использую заголовки третьего уровня - содержимое также можно скрыть.\n",
    "\n",
    "Использование этих заголовков (параметры, возвращаемое значение) не является обязательным в литературных ноутбуках, но они - такие заголовки - улучшают читабельность (плюс фолдирование)"
   ]
  },
  {
   "cell_type": "markdown",
   "id": "60794e13-6884-4f12-85c0-3887c812ab90",
   "metadata": {
    "editable": true,
    "slideshow": {
     "slide_type": ""
    },
    "tags": []
   },
   "source": [
    "### Параметры"
   ]
  },
  {
   "cell_type": "markdown",
   "id": "77396abf-a2c4-400f-b519-30711739fe49",
   "metadata": {
    "editable": true,
    "slideshow": {
     "slide_type": ""
    },
    "tags": []
   },
   "source": [
    "Ниже в ячейках с тэгом `param` перечислены параметры функции (если они есть)\n",
    "\n",
    "* до двух двоеточий - параметр (в синтаксисе python)\n",
    "* после двух двоеточий - описание параметра (описание не обязано занимать одну строку и входить в одну ячейку)"
   ]
  },
  {
   "cell_type": "code",
   "execution_count": null,
   "id": "d1a69af8-e572-4912-8795-743a3c4a3112",
   "metadata": {
    "editable": true,
    "slideshow": {
     "slide_type": ""
    },
    "tags": [
     "param"
    ]
   },
   "outputs": [],
   "source": [
    "fromStr: str:: из чего генерируем"
   ]
  },
  {
   "cell_type": "code",
   "execution_count": null,
   "id": "bd79201b-2d2b-4256-811e-c3426f4abfdf",
   "metadata": {
    "editable": true,
    "slideshow": {
     "slide_type": ""
    },
    "tags": [
     "param"
    ]
   },
   "outputs": [],
   "source": [
    "numInst: int = 4:: сколько штук нужно сгенерировать"
   ]
  },
  {
   "cell_type": "markdown",
   "id": "717b3e90-5490-4cae-94a3-a7e84639180b",
   "metadata": {
    "editable": true,
    "slideshow": {
     "slide_type": ""
    },
    "tags": []
   },
   "source": [
    "### Возвращаемое значение"
   ]
  },
  {
   "cell_type": "markdown",
   "id": "969cf890-8659-469d-8da9-ac678fff34e5",
   "metadata": {
    "editable": true,
    "slideshow": {
     "slide_type": ""
    },
    "tags": []
   },
   "source": [
    "Ниже в ячейке с тэгом `return` - возвращаемый функцией результат (если он есть), здесь также\n",
    "\n",
    "* до двух двоеточий - тип возвращаемого значения (в синтаксисе python)\n",
    "    * если не используем type hints - можно просто описать возвращаемый результат словами (в маркдаун ячейке)\n",
    "* после двух двоеточий - описание результата (описание не обязано занимать одну строку и входить в одну ячейку)"
   ]
  },
  {
   "cell_type": "code",
   "execution_count": null,
   "id": "3e9e9296-6a34-4f3f-81d2-19809f1d88f8",
   "metadata": {
    "editable": true,
    "slideshow": {
     "slide_type": ""
    },
    "tags": [
     "return"
    ]
   },
   "outputs": [],
   "source": [
    "List[str]:: получившийся результат - сгенеренный список..."
   ]
  },
  {
   "cell_type": "markdown",
   "id": "9bdfb10f-6748-4913-99d9-caeaa882ac0e",
   "metadata": {
    "editable": true,
    "slideshow": {
     "slide_type": ""
    },
    "tags": []
   },
   "source": [
    "### Дополнительное описание"
   ]
  },
  {
   "cell_type": "markdown",
   "id": "56bff684-9f83-4229-ac02-a77799d9a171",
   "metadata": {
    "editable": true,
    "slideshow": {
     "slide_type": ""
    },
    "tags": []
   },
   "source": [
    "В ячейке ниже с тэгом `doc` - маркдаун ячейка, она будет использована при генерации описания функции (для ГенИИ). \n",
    "\n",
    "Здесь можно разместить дополнительные описания, нюансы, моменты - это же ноутбук!"
   ]
  },
  {
   "cell_type": "markdown",
   "id": "da9168bf-075d-447a-ac75-bc2d485f4fe9",
   "metadata": {
    "editable": true,
    "slideshow": {
     "slide_type": ""
    },
    "tags": [
     "doc"
    ]
   },
   "source": [
    "Здесь еще какой-то текст про нюансы функции"
   ]
  },
  {
   "cell_type": "markdown",
   "id": "ef639b70-e510-4054-b1e7-69ce4a9d3344",
   "metadata": {
    "editable": true,
    "slideshow": {
     "slide_type": ""
    },
    "tags": []
   },
   "source": [
    "### Тело"
   ]
  },
  {
   "cell_type": "markdown",
   "id": "d6435394-4c57-4602-a89d-a3e672aad0a5",
   "metadata": {
    "editable": true,
    "slideshow": {
     "slide_type": ""
    },
    "tags": []
   },
   "source": [
    "Ниже в ячейках с тэгами `body` - тело функции (без дополнительного выравнивания - его обеспечит компилятор)\n",
    "\n",
    "Не обязательно - как в примере ниже - разбивать код тела функции на части. Но такое вполне возможно - функции бывают длинными. Возможно - см. самую нижнюю часть ноутбука - и здесь воспользоваться макросами (см. описание и примеры в модуле asm - макросы это часть функционала Ассемблера)."
   ]
  },
  {
   "cell_type": "markdown",
   "id": "a6273ea1-30a6-4c42-83af-6d9739ee3bef",
   "metadata": {
    "editable": true,
    "slideshow": {
     "slide_type": ""
    },
    "tags": []
   },
   "source": [
    "(дока)\n",
    "\n",
    "Проинициализируем список"
   ]
  },
  {
   "cell_type": "code",
   "execution_count": null,
   "id": "b129da5d-ffb9-41c0-abd3-65b2b81446be",
   "metadata": {
    "editable": true,
    "slideshow": {
     "slide_type": ""
    },
    "tags": [
     "body"
    ]
   },
   "outputs": [],
   "source": [
    "res = []"
   ]
  },
  {
   "cell_type": "markdown",
   "id": "89849fdd-8f5e-4a69-b8d3-8fdec22e38f7",
   "metadata": {
    "editable": true,
    "slideshow": {
     "slide_type": ""
    },
    "tags": []
   },
   "source": [
    "(дока)\n",
    "\n",
    "Наполним список значениями (параметром)"
   ]
  },
  {
   "cell_type": "code",
   "execution_count": null,
   "id": "1e6e02b2-5867-4578-a557-104985928d49",
   "metadata": {
    "editable": true,
    "slideshow": {
     "slide_type": ""
    },
    "tags": [
     "body"
    ]
   },
   "outputs": [],
   "source": [
    "for i in range(numInst):\n",
    "    res.append(fromStr)\n",
    "\n",
    "return res"
   ]
  },
  {
   "cell_type": "markdown",
   "id": "adbd5353-dfaf-44ff-99ad-175a2e1e299c",
   "metadata": {
    "editable": true,
    "slideshow": {
     "slide_type": ""
    },
    "tags": []
   },
   "source": [
    "Дальше следуют юнит тесты функции, они\n",
    "\n",
    "* обеспечивают \"гибкость\" кода (см. Кент Бек)\n",
    "* дополнительную документацию (примеры использования)"
   ]
  },
  {
   "cell_type": "markdown",
   "id": "ded10c32-8e92-4dd5-bf92-9050c21cce6d",
   "metadata": {
    "editable": true,
    "slideshow": {
     "slide_type": ""
    },
    "tags": []
   },
   "source": [
    "### Тесты"
   ]
  },
  {
   "cell_type": "markdown",
   "id": "4408d76f-9b88-4b38-af0f-cf503237bb36",
   "metadata": {
    "editable": true,
    "slideshow": {
     "slide_type": ""
    },
    "tags": []
   },
   "source": [
    "В ячейке ниже с тэгом `testdef` содержится заголовок юнит-теста\n",
    "\n",
    "* до двух двоеточий: идентификатор теста (имя функции в тестовом модуле будет `test_GenSomething_smoke`\n",
    "* после - комментарий"
   ]
  },
  {
   "cell_type": "markdown",
   "id": "99d2c6d3-5cdf-4fd1-a7fa-926b9d817d62",
   "metadata": {
    "editable": true,
    "slideshow": {
     "slide_type": ""
    },
    "tags": [
     "testdef"
    ]
   },
   "source": [
    "#### smoke:: самый простой вариант запуска (с параметром)"
   ]
  },
  {
   "cell_type": "markdown",
   "id": "8ce90b97-ee6c-4169-8c79-4839b3d07c00",
   "metadata": {
    "editable": true,
    "slideshow": {
     "slide_type": ""
    },
    "tags": []
   },
   "source": [
    "В ячейке с тэгом `testbody` - тело (без выравнивания) "
   ]
  },
  {
   "cell_type": "code",
   "execution_count": null,
   "id": "1ecfcbe3-6938-45a5-bb4f-d3e00544d6b3",
   "metadata": {
    "editable": true,
    "slideshow": {
     "slide_type": ""
    },
    "tags": [
     "testbody"
    ]
   },
   "outputs": [],
   "source": [
    "assert lit_smoke.GenSomething(\"ss\",1) == [\"ss\"]"
   ]
  },
  {
   "cell_type": "markdown",
   "id": "470edf45-14bf-435a-8569-efbc418e52fa",
   "metadata": {
    "editable": true,
    "slideshow": {
     "slide_type": ""
    },
    "tags": []
   },
   "source": [
    "Еще один юнит-тест"
   ]
  },
  {
   "cell_type": "markdown",
   "id": "c13e2d53-c413-40aa-80df-783bd299c03f",
   "metadata": {
    "editable": true,
    "slideshow": {
     "slide_type": ""
    },
    "tags": [
     "testdef"
    ]
   },
   "source": [
    "#### no_param:: без параметров - будет список из 4 элементов"
   ]
  },
  {
   "cell_type": "code",
   "execution_count": null,
   "id": "6a4f24fe-7d8b-4754-9e9c-5d682c6e09e4",
   "metadata": {
    "editable": true,
    "slideshow": {
     "slide_type": ""
    },
    "tags": [
     "testbody"
    ]
   },
   "outputs": [],
   "source": [
    "assert lit_smoke.GenSomething(\"ss\") == [\"ss\",\"ss\",\"ss\",\"ss\"]"
   ]
  },
  {
   "cell_type": "markdown",
   "id": "dac48965-80eb-4110-9383-74d1228941c3",
   "metadata": {
    "editable": true,
    "slideshow": {
     "slide_type": ""
    },
    "tags": []
   },
   "source": [
    "Пример оформления кода для класса, \n",
    "\n",
    "ячейка с тэгом `class`, в ней как обычно\n",
    "\n",
    "* до двух двоеточий: идентификатор класса\n",
    "* после - описание\n",
    "\n",
    "После ячейки следуют ячейка(и) с дополнительными описаниями класса"
   ]
  },
  {
   "cell_type": "markdown",
   "id": "3605a39f-8492-460b-be76-1aa034ca056f",
   "metadata": {
    "editable": true,
    "slideshow": {
     "slide_type": ""
    },
    "tags": [
     "class"
    ]
   },
   "source": [
    "## MyClass:: класс для абстрагирования"
   ]
  },
  {
   "cell_type": "markdown",
   "id": "69b75063-f8e6-4e5e-8da4-79974e3a43eb",
   "metadata": {
    "editable": true,
    "slideshow": {
     "slide_type": ""
    },
    "tags": []
   },
   "source": [
    "(дока)\n",
    "\n",
    "Класс для целей тестирования lit возможностей"
   ]
  },
  {
   "cell_type": "markdown",
   "id": "0a420a63-bb09-4a55-8562-24e9cd869a01",
   "metadata": {
    "editable": true,
    "slideshow": {
     "slide_type": ""
    },
    "tags": []
   },
   "source": [
    "Методы класса - ячейка с тэгом `method`, в ней как обычно\n",
    "\n",
    "* до двух двоеточий: идентификатор класса\n",
    "* после - описание\n",
    "\n",
    "Для методов класса используется тот же подход, что и для функций (и тэги `param` и `return`), но часть тэгов изменилась:\n",
    "\n",
    "* `method` вместо `function`\n",
    "* `methodbody` вместо `body`"
   ]
  },
  {
   "cell_type": "markdown",
   "id": "2c5ddb55-c6dd-4449-85e9-326536c3ad18",
   "metadata": {
    "editable": true,
    "slideshow": {
     "slide_type": ""
    },
    "tags": [
     "method"
    ]
   },
   "source": [
    "### __init__:: конструктор моего класса"
   ]
  },
  {
   "cell_type": "markdown",
   "id": "cd2eb013-4aee-49db-bfeb-50e47f678ceb",
   "metadata": {
    "editable": true,
    "slideshow": {
     "slide_type": ""
    },
    "tags": []
   },
   "source": [
    "#### Параметры"
   ]
  },
  {
   "cell_type": "code",
   "execution_count": null,
   "id": "46f87e7c-69bc-4c1a-92ec-9704aa3db3ac",
   "metadata": {
    "editable": true,
    "slideshow": {
     "slide_type": ""
    },
    "tags": [
     "param"
    ]
   },
   "outputs": [],
   "source": [
    "par1: str:: какой-то параметр"
   ]
  },
  {
   "cell_type": "markdown",
   "id": "e80ec129-0669-4f59-a59d-49edcc10a6da",
   "metadata": {
    "editable": true,
    "slideshow": {
     "slide_type": ""
    },
    "tags": []
   },
   "source": [
    "#### Тело"
   ]
  },
  {
   "cell_type": "code",
   "execution_count": null,
   "id": "2495cb90-6f6c-4a21-856c-c074047cfa52",
   "metadata": {
    "editable": true,
    "slideshow": {
     "slide_type": ""
    },
    "tags": [
     "methodbody"
    ]
   },
   "outputs": [],
   "source": [
    "self.var1 = par1"
   ]
  },
  {
   "cell_type": "markdown",
   "id": "27400987-83d3-4ea9-b7f3-6a1a043dbdf7",
   "metadata": {
    "editable": true,
    "slideshow": {
     "slide_type": ""
    },
    "tags": [
     "method"
    ]
   },
   "source": [
    "### method1:: главный метод класса"
   ]
  },
  {
   "cell_type": "markdown",
   "id": "2cee3e80-2e90-4343-94f9-10fd187f4681",
   "metadata": {
    "editable": true,
    "slideshow": {
     "slide_type": ""
    },
    "tags": []
   },
   "source": [
    "#### Возвращаемое значение"
   ]
  },
  {
   "cell_type": "code",
   "execution_count": null,
   "id": "c473ef43-bd43-4c27-a43c-29c0cd24a833",
   "metadata": {
    "editable": true,
    "slideshow": {
     "slide_type": ""
    },
    "tags": [
     "return"
    ]
   },
   "outputs": [],
   "source": [
    "str:: результат главного метода"
   ]
  },
  {
   "cell_type": "markdown",
   "id": "0aea650b-af82-4288-a056-69817eb03099",
   "metadata": {
    "editable": true,
    "slideshow": {
     "slide_type": ""
    },
    "tags": []
   },
   "source": [
    "#### Тело"
   ]
  },
  {
   "cell_type": "code",
   "execution_count": null,
   "id": "a29365b3-2a58-4201-91d8-b37614508c1a",
   "metadata": {
    "editable": true,
    "slideshow": {
     "slide_type": ""
    },
    "tags": [
     "methodbody"
    ]
   },
   "outputs": [],
   "source": [
    "return \"*\" * v1"
   ]
  },
  {
   "cell_type": "markdown",
   "id": "bff1d8fe-41e2-4b17-904c-701c11237ab4",
   "metadata": {
    "editable": true,
    "slideshow": {
     "slide_type": ""
    },
    "tags": []
   },
   "source": [
    "Юнит тесты для методов класса оформляются также, как и для функций."
   ]
  },
  {
   "cell_type": "markdown",
   "id": "120a1148-cf21-49cb-924f-37587fad4c61",
   "metadata": {
    "editable": true,
    "slideshow": {
     "slide_type": ""
    },
    "tags": []
   },
   "source": [
    "## Проброска ячеек напрямую в asm"
   ]
  },
  {
   "cell_type": "markdown",
   "id": "4182e88a-e523-401e-af8a-765a0264e614",
   "metadata": {
    "editable": true,
    "slideshow": {
     "slide_type": ""
    },
    "tags": []
   },
   "source": [
    "В литературных ноутбуках можно напрямую использовать \"макро\" возможности Ассемблера - тэги `mod` и `test` отрабатываются также, как и в Ассемблерных ноутбуках. "
   ]
  },
  {
   "cell_type": "markdown",
   "id": "4f926b4f-e176-476d-8134-9925a9610222",
   "metadata": {
    "editable": true,
    "slideshow": {
     "slide_type": ""
    },
    "tags": []
   },
   "source": [
    "Ячейки ниже дублируют пример из asm ноутбука asm_smoke.py (чуть изменены под специфику использования здесь)"
   ]
  },
  {
   "cell_type": "code",
   "execution_count": null,
   "id": "86107ed0-c97f-4d5e-b334-dec616d77295",
   "metadata": {
    "editable": true,
    "slideshow": {
     "slide_type": ""
    },
    "tags": [
     "mod"
    ]
   },
   "outputs": [],
   "source": [
    "def myFunc( {{ параметры_myFunc }} ):\n",
    "\n",
    "    {{ обработка_myFunc() }}\n",
    "\n",
    "    return {{ результат_myFunc }}"
   ]
  },
  {
   "cell_type": "code",
   "execution_count": null,
   "id": "ed76abb5-3063-4147-9cd7-6841b21fef3b",
   "metadata": {
    "editable": true,
    "slideshow": {
     "slide_type": ""
    },
    "tags": [
     "mac.параметры_myFunc"
    ]
   },
   "outputs": [],
   "source": [
    "par: str"
   ]
  },
  {
   "cell_type": "code",
   "execution_count": null,
   "id": "c203b819-4766-42f1-9b3a-e557ab8b1f0f",
   "metadata": {
    "editable": true,
    "slideshow": {
     "slide_type": ""
    },
    "tags": [
     "mac.результат_myFunc"
    ]
   },
   "outputs": [],
   "source": [
    "1"
   ]
  },
  {
   "cell_type": "markdown",
   "id": "0632a8a8-c7ef-4b5a-96d2-471926d692ae",
   "metadata": {
    "editable": true,
    "slideshow": {
     "slide_type": ""
    },
    "tags": []
   },
   "source": [
    "Закомментировал полностью код, чтобы тест прошел"
   ]
  },
  {
   "cell_type": "code",
   "execution_count": null,
   "id": "8951fbca-7337-4d6f-a6cc-5d01fda7b782",
   "metadata": {
    "editable": true,
    "slideshow": {
     "slide_type": ""
    },
    "tags": [
     "mdef"
    ]
   },
   "outputs": [],
   "source": [
    "{% macro обработка_myFunc() %}\n",
    "# doProcessing()\n",
    "# doLog()\n",
    "{% endmacro %}"
   ]
  },
  {
   "cell_type": "markdown",
   "id": "5600da1a-0773-438c-ac2a-accdebf85fce",
   "metadata": {
    "editable": true,
    "slideshow": {
     "slide_type": ""
    },
    "tags": []
   },
   "source": [
    "### Если нужны pytest.fixture"
   ]
  },
  {
   "cell_type": "markdown",
   "id": "2d718362-a4b3-452f-82e8-cea5b3d2f295",
   "metadata": {
    "editable": true,
    "slideshow": {
     "slide_type": ""
    },
    "tags": []
   },
   "source": [
    "Из прикольного: то, что не получается (пока) сделать с помощью чисто lit уровня, можно сделать на asm уровне - например `pytest.fixture`:"
   ]
  },
  {
   "cell_type": "code",
   "execution_count": null,
   "id": "af1c6a65-e8a5-40aa-9232-aee078329eea",
   "metadata": {
    "editable": true,
    "slideshow": {
     "slide_type": ""
    },
    "tags": [
     "test"
    ]
   },
   "outputs": [],
   "source": [
    "@pytest.fixture\n",
    "def gaaa():\n",
    "    return(\"aaa\")"
   ]
  },
  {
   "cell_type": "code",
   "execution_count": null,
   "id": "116747ae-6e90-4a22-8e24-cb1044c6d027",
   "metadata": {
    "editable": true,
    "slideshow": {
     "slide_type": ""
    },
    "tags": [
     "test"
    ]
   },
   "outputs": [],
   "source": [
    "def test_myFunc(gaaa):\n",
    "\n",
    "    assert lit_smoke.myFunc(gaaa)==1"
   ]
  }
 ],
 "metadata": {
  "kernelspec": {
   "display_name": "Python 3 (ipykernel)",
   "language": "python",
   "name": "python3"
  },
  "language_info": {
   "codemirror_mode": {
    "name": "ipython",
    "version": 3
   },
   "file_extension": ".py",
   "mimetype": "text/x-python",
   "name": "python",
   "nbconvert_exporter": "python",
   "pygments_lexer": "ipython3",
   "version": "3.11.8"
  }
 },
 "nbformat": 4,
 "nbformat_minor": 5
}
