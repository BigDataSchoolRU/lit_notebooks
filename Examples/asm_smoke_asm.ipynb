{
 "cells": [
  {
   "cell_type": "markdown",
   "id": "1ae4813b-cb48-4c5f-8e2e-cee123e86c3a",
   "metadata": {
    "editable": true,
    "slideshow": {
     "slide_type": ""
    },
    "tags": []
   },
   "source": [
    "# Happy path: пример asm ноутбука"
   ]
  },
  {
   "cell_type": "code",
   "execution_count": null,
   "id": "37c8f2e5-9c0b-434d-9d3d-0f8cb33deeb1",
   "metadata": {
    "editable": true,
    "slideshow": {
     "slide_type": ""
    },
    "tags": []
   },
   "outputs": [],
   "source": [
    "import asm"
   ]
  },
  {
   "cell_type": "markdown",
   "id": "62a84ed3-50c2-4517-8035-32bf23812366",
   "metadata": {
    "editable": true,
    "slideshow": {
     "slide_type": ""
    },
    "tags": []
   },
   "source": [
    "## Использование"
   ]
  },
  {
   "cell_type": "markdown",
   "id": "b7ec33ff-f5ab-45c3-9ed6-76095a663153",
   "metadata": {
    "editable": true,
    "slideshow": {
     "slide_type": ""
    },
    "tags": []
   },
   "source": [
    "Начнем с конца - с использования (т.е. с \"механики\").\n",
    "\n",
    "Этот ноутбук содержит простой пример - как будто, я разрабатываю некий \"модуль\" в литературном стиле (см. ниже)\n",
    "\n",
    "Сгенерировать \"модуль\" полсьл: обработаем с помощью `asm` этот ноутбук, результат - asm_smoke.py"
   ]
  },
  {
   "cell_type": "code",
   "execution_count": null,
   "id": "1a68b252-1b42-4370-b648-ffed5c88cc70",
   "metadata": {
    "editable": true,
    "slideshow": {
     "slide_type": ""
    },
    "tags": []
   },
   "outputs": [],
   "source": [
    "asm.processFile(\"asm_smoke_asm.ipynb\")"
   ]
  },
  {
   "cell_type": "markdown",
   "id": "8804f290-6b59-4c68-8319-9372898c912b",
   "metadata": {
    "editable": true,
    "slideshow": {
     "slide_type": ""
    },
    "tags": []
   },
   "source": [
    "Из этого ноутбука можно сгенерировать юнит тесты.\n",
    "\n",
    "После того, как разработка окончена (или в процессе TDD) - прогоним их - убедимся, что \"все работает\""
   ]
  },
  {
   "cell_type": "code",
   "execution_count": null,
   "id": "7375958a-c7c1-4bb2-8892-12ffa765abae",
   "metadata": {
    "editable": true,
    "slideshow": {
     "slide_type": ""
    },
    "tags": []
   },
   "outputs": [],
   "source": [
    "asm.processFile(\"asm_smoke_asm.ipynb\",\"test\")\n",
    "!pytest test_asm_smoke.py"
   ]
  },
  {
   "cell_type": "markdown",
   "id": "40dfc62a-ab1e-4cc2-aa8b-9dbaa35ad3d9",
   "metadata": {
    "editable": true,
    "slideshow": {
     "slide_type": ""
    },
    "tags": []
   },
   "source": [
    "## ASM Notebook"
   ]
  },
  {
   "cell_type": "markdown",
   "id": "e9dca091-8074-4846-a9c1-5438d3279265",
   "metadata": {
    "editable": true,
    "slideshow": {
     "slide_type": ""
    },
    "tags": []
   },
   "source": [
    "`asm` ноутбук содержит код и юнит тесты питон модуля. В данном случае \n",
    "\n",
    "* модуль будет иметь имя `asm_smoke` (по имени ноутбука - суффикс _asm удаляется)\n",
    "* юнит тесты попадут в файл `test_asm_smoke`"
   ]
  },
  {
   "cell_type": "markdown",
   "id": "5c7fcd98-99f4-4ed2-b399-e75b0b1165d1",
   "metadata": {
    "editable": true,
    "slideshow": {
     "slide_type": ""
    },
    "tags": []
   },
   "source": [
    "Эта ячейка - документация (в код она не попадет, как и любые другие markdown ячейки).\n",
    "\n",
    "Ниже приведены основные составляющие блоки asm ноутбука и приведен \"сценарий\" - как будто мы что-то действительно разрабатываем (в стиле  \"литературного программирования\" по Кнуту). Для удобства просмотра нужно включить режим отображения тэгов."
   ]
  },
  {
   "cell_type": "markdown",
   "id": "1e2f54c4-e42f-4fc4-9fe4-a4c7162eed8d",
   "metadata": {
    "editable": true,
    "slideshow": {
     "slide_type": ""
    },
    "tags": []
   },
   "source": [
    "Предположим я хочу написать функцию, которая\n",
    "\n",
    "* имеет параметр (или параметры), но я пока не понимаю какие, какого типа и сколько\n",
    "* что-то делает, но я тоже пока не хочу опускаться ниже верхнего уровня (здесь пример - вырожденный, одно действие)\n",
    "* возвращает какой-то результат\n",
    "\n",
    "В соответствии с подходом Кнута я могу использовать \"секции\", в варианте asm подхода это\n",
    "\n",
    "* макроподстановки (без скобок) или\n",
    "* макроопределения (они могут быть с параметрами и могут использоваться \"вложенно\")\n",
    "\n",
    "В текущей реализации asm под капотом используется jinja, поэтому используем ее синтаксис."
   ]
  },
  {
   "cell_type": "markdown",
   "id": "dc00b386-4c31-47c7-a5a6-be6a3f459148",
   "metadata": {
    "editable": true,
    "slideshow": {
     "slide_type": ""
    },
    "tags": []
   },
   "source": [
    "Верхнеуровнево разрабатываемая мной функция выглядит так:"
   ]
  },
  {
   "cell_type": "markdown",
   "id": "ee770ecd-50ba-4acc-9e3e-0c42067f42c5",
   "metadata": {
    "editable": true,
    "slideshow": {
     "slide_type": ""
    },
    "tags": []
   },
   "source": [
    "(код из ячейки ниже пойдет в \"модуль\" (тэг `mod`))"
   ]
  },
  {
   "cell_type": "code",
   "execution_count": null,
   "id": "86107ed0-c97f-4d5e-b334-dec616d77295",
   "metadata": {
    "editable": true,
    "slideshow": {
     "slide_type": ""
    },
    "tags": [
     "mod"
    ]
   },
   "outputs": [],
   "source": [
    "def myFunc( {{ параметры_myFunc }} ):\n",
    "\n",
    "    {{ обработка_myFunc() }}\n",
    "\n",
    "    return {{ результат_myFunc }}"
   ]
  },
  {
   "cell_type": "markdown",
   "id": "800f4a93-fa25-40b3-8075-0368c8036f92",
   "metadata": {
    "editable": true,
    "slideshow": {
     "slide_type": ""
    },
    "tags": []
   },
   "source": [
    "Дальше \"по коду\" ноутбука я постепенно наполняю содержимым макроопределения и макроподстановки - как бы рассуждая и объясняя свои намерения читателю."
   ]
  },
  {
   "cell_type": "markdown",
   "id": "09673de0-832e-4e73-ac85-8362ae9e241b",
   "metadata": {
    "editable": true,
    "slideshow": {
     "slide_type": ""
    },
    "tags": []
   },
   "source": [
    "### Макроподстановки"
   ]
  },
  {
   "cell_type": "markdown",
   "id": "fd6905be-4692-464f-b130-935f396018d8",
   "metadata": {
    "editable": true,
    "slideshow": {
     "slide_type": ""
    },
    "tags": []
   },
   "source": [
    "Макроподстановка позволяет заменить строку (имя макроподстановки) на строку (тело макроподстановки)\n",
    "\n",
    "* имя макроподстановки = часть после `mac.` значения тэга `mac.*`\n",
    "    * в примере ниже это `параметры_myFunc` (см. тэги)\n",
    "* тело макроподстановки = содержимое ячейки\n",
    "    * оно будет выровнено \"по месту использования\""
   ]
  },
  {
   "cell_type": "markdown",
   "id": "fafd3f41-637b-43c6-a7e5-662ae16a0fd3",
   "metadata": {
    "editable": true,
    "slideshow": {
     "slide_type": ""
    },
    "tags": []
   },
   "source": [
    "Параметрами моей функции ... будет один параметр "
   ]
  },
  {
   "cell_type": "code",
   "execution_count": null,
   "id": "df23e210-62af-461c-9894-6f9d0728e688",
   "metadata": {
    "editable": true,
    "slideshow": {
     "slide_type": ""
    },
    "tags": [
     "mac.параметры_myFunc"
    ]
   },
   "outputs": [],
   "source": [
    "par: str"
   ]
  },
  {
   "cell_type": "markdown",
   "id": "f60d7752-1ffa-450e-bd1e-2077a82e1fca",
   "metadata": {
    "editable": true,
    "slideshow": {
     "slide_type": ""
    },
    "tags": []
   },
   "source": [
    "В качестве результата моя функция всегда будет возвращать константу"
   ]
  },
  {
   "cell_type": "code",
   "execution_count": null,
   "id": "03dc1416-a0b8-44cf-a025-b6c878aa6576",
   "metadata": {
    "editable": true,
    "slideshow": {
     "slide_type": ""
    },
    "tags": [
     "mac.результат_myFunc"
    ]
   },
   "outputs": [],
   "source": [
    "1"
   ]
  },
  {
   "cell_type": "markdown",
   "id": "2b4cce8d-a05c-4ecb-9bb8-d005125a1f0a",
   "metadata": {
    "editable": true,
    "slideshow": {
     "slide_type": ""
    },
    "tags": []
   },
   "source": [
    "### Макроопределения"
   ]
  },
  {
   "cell_type": "markdown",
   "id": "76634eca-0cb3-46fb-81c2-6c36d7183690",
   "metadata": {
    "editable": true,
    "slideshow": {
     "slide_type": ""
    },
    "tags": []
   },
   "source": [
    "Макроопределение позволяет заменить строку (вызов макроопределения) на его тело.\n",
    "\n",
    "Макроопределения также выравниваются \"по месту использования\".\n",
    "\n",
    "Макроопределения необходимо оформлять в соответствии с синтаксисом jinja и давать ячейке тэг `mdef`"
   ]
  },
  {
   "cell_type": "markdown",
   "id": "a8a5ff7c-e5c0-43e4-b16f-7f2fc0b7c9cc",
   "metadata": {
    "editable": true,
    "slideshow": {
     "slide_type": ""
    },
    "tags": []
   },
   "source": [
    "Пусть моя функция выполняет такую обработку (ячейка ниже)"
   ]
  },
  {
   "cell_type": "code",
   "execution_count": null,
   "id": "26f78263-379b-4359-bb52-b0df10f7e3b8",
   "metadata": {
    "editable": true,
    "slideshow": {
     "slide_type": ""
    },
    "tags": [
     "mdef"
    ]
   },
   "outputs": [],
   "source": [
    "{% macro обработка_myFunc() %}\n",
    "doProcessing(par)\n",
    "doLog(par)\n",
    "{% endmacro %}"
   ]
  },
  {
   "cell_type": "markdown",
   "id": "b6be6dba-0a6a-4657-b2e0-af517b40a6c0",
   "metadata": {
    "editable": true,
    "slideshow": {
     "slide_type": ""
    },
    "tags": []
   },
   "source": [
    "Можно сделать несколько вариантов обработки и оперируя тэгами выбирать - какой вариант обработки нужно использовать."
   ]
  },
  {
   "cell_type": "markdown",
   "id": "e1765078-fd56-491f-8b9a-53abd56778b4",
   "metadata": {
    "editable": true,
    "slideshow": {
     "slide_type": ""
    },
    "tags": []
   },
   "source": [
    "## Юнит тесты"
   ]
  },
  {
   "cell_type": "markdown",
   "id": "1f51a1a7-32ba-4616-ac2f-f580efb65a87",
   "metadata": {
    "editable": true,
    "slideshow": {
     "slide_type": ""
    },
    "tags": []
   },
   "source": [
    "Юнит тесты - это еще и часть документации: они показывают, как нужно использовать функцию.\n",
    "\n",
    "Код ячейки ниже пойдет в \"тест\" (тэг `test`)"
   ]
  },
  {
   "cell_type": "markdown",
   "id": "88be3d5d-aba5-4b08-8e33-d2bea5cced91",
   "metadata": {
    "editable": true,
    "slideshow": {
     "slide_type": ""
    },
    "tags": []
   },
   "source": [
    "Пример использования той функции, которую я проектирую"
   ]
  },
  {
   "cell_type": "code",
   "execution_count": null,
   "id": "1729317f-0ed4-4580-aa88-e3401d0e7644",
   "metadata": {
    "editable": true,
    "slideshow": {
     "slide_type": ""
    },
    "tags": [
     "test"
    ]
   },
   "outputs": [],
   "source": [
    "def test_myFunc():\n",
    "\n",
    "    assert asm_smoke.myFunc(\"aaa\")==1"
   ]
  },
  {
   "cell_type": "markdown",
   "id": "114e58be-cb89-4c8d-8ff4-4bf18fd904aa",
   "metadata": {
    "editable": true,
    "slideshow": {
     "slide_type": ""
    },
    "tags": []
   },
   "source": [
    "А эта ячейка никуда не пойдет - это часть процесса создания ноутбука, в нем можно и нужно отлаживаться, экспериментировать и т.п."
   ]
  },
  {
   "cell_type": "code",
   "execution_count": null,
   "id": "cd5ffb55-7261-4e8a-a70b-92f2622722fd",
   "metadata": {
    "editable": true,
    "slideshow": {
     "slide_type": ""
    },
    "tags": []
   },
   "outputs": [],
   "source": [
    "a = 1"
   ]
  },
  {
   "cell_type": "markdown",
   "id": "2e59628f-d243-4651-ae5b-1cd04169a99a",
   "metadata": {
    "editable": true,
    "slideshow": {
     "slide_type": ""
    },
    "tags": []
   },
   "source": [
    "## Остальной код"
   ]
  },
  {
   "cell_type": "markdown",
   "id": "ee45ab80-9e71-40cb-b8bb-6f5905da5034",
   "metadata": {
    "editable": true,
    "slideshow": {
     "slide_type": ""
    },
    "tags": []
   },
   "source": [
    "Поскольку я уже разобрался, что именно будет делать моя функция myFunc() выше, могу разработать \"основной\" код - он пойдет в модуль."
   ]
  },
  {
   "cell_type": "code",
   "execution_count": null,
   "id": "91f23127-04c2-4ad9-8707-08bb6b0c97f1",
   "metadata": {
    "editable": true,
    "slideshow": {
     "slide_type": ""
    },
    "tags": [
     "mod"
    ]
   },
   "outputs": [],
   "source": [
    "def doProcessing(ss):\n",
    "   pass "
   ]
  },
  {
   "cell_type": "code",
   "execution_count": null,
   "id": "cc81b129-28d1-4b57-a712-9efc77682030",
   "metadata": {
    "editable": true,
    "slideshow": {
     "slide_type": ""
    },
    "tags": [
     "mod"
    ]
   },
   "outputs": [],
   "source": [
    "def doLog(ss):\n",
    "   print(\"LOG:\",ss)"
   ]
  }
 ],
 "metadata": {
  "kernelspec": {
   "display_name": "Python 3 (ipykernel)",
   "language": "python",
   "name": "python3"
  },
  "language_info": {
   "codemirror_mode": {
    "name": "ipython",
    "version": 3
   },
   "file_extension": ".py",
   "mimetype": "text/x-python",
   "name": "python",
   "nbconvert_exporter": "python",
   "pygments_lexer": "ipython3",
   "version": "3.11.8"
  }
 },
 "nbformat": 4,
 "nbformat_minor": 5
}
