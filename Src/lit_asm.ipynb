{
 "cells": [
  {
   "cell_type": "markdown",
   "id": "d9020ef0-4700-4981-856a-1ce9005b90b3",
   "metadata": {
    "editable": true,
    "slideshow": {
     "slide_type": ""
    },
    "tags": []
   },
   "source": [
    "# Лит-компилятор"
   ]
  },
  {
   "cell_type": "markdown",
   "id": "39d25876-dc4d-4516-b1a8-da27e51d778d",
   "metadata": {
    "editable": true,
    "slideshow": {
     "slide_type": ""
    },
    "tags": []
   },
   "source": [
    "Этот ноутбук позволяет сгенерировать лит-компилятор, который добавляет \"вкусностей\" (см. ниже). Лит-компилятор преобразует ноутбук из высокоуровнего \"литературного\" формата в формат Ассемблера.\n",
    "\n",
    "Технически ноутбук предназначен для обработки ассемблером, поэтому в нем используется формат Ассемблера."
   ]
  },
  {
   "cell_type": "markdown",
   "id": "a463b5ca-6df0-4d42-8aa3-a4669978742f",
   "metadata": {
    "editable": true,
    "slideshow": {
     "slide_type": ""
    },
    "tags": []
   },
   "source": [
    "## Общая идея"
   ]
  },
  {
   "cell_type": "markdown",
   "id": "aad7308c-5e42-4f41-b581-7e36fe655434",
   "metadata": {
    "editable": true,
    "slideshow": {
     "slide_type": ""
    },
    "tags": []
   },
   "source": [
    "К возможностям собственно \"литературного\" программирования (а это - Ассемблер) добавились \"вкусности\":\n",
    "\n",
    "**Дублирование**\n",
    "\n",
    "Очень не хочется дублировать одно и то же (имя функции, параметры и их описание, результат...) - раз уж мы \"генерируем\" код, почему бы себе такого не позволить? См. пример литературного ноутбука (lit_smoke.ipynb) и юнит-тесты здесь\n",
    "\n",
    "**Док-строки**\n",
    "\n",
    "Документация содержится в литературном ноутбуке - в модуль она не \"переезжает\". В модуль переносятся только кодовые ячейки и только те из них, которые помечены соответствующим тэгом (список и семантику тэгов нужно смотреть по коду или в примерах - директория `Examples`). \n",
    "\n",
    "**Фолдируемость**\n",
    "\n",
    "Юпитер лаб позволяет замечательно визуально организовать код, если использовать заголовки (см. пример литературного ноутбука)."
   ]
  },
  {
   "cell_type": "markdown",
   "id": "235324c6-4a6f-4307-a48f-c50676cb4ada",
   "metadata": {
    "editable": true,
    "slideshow": {
     "slide_type": ""
    },
    "tags": []
   },
   "source": [
    "## Отладка"
   ]
  },
  {
   "cell_type": "markdown",
   "id": "db15b7d2-8091-4c37-af36-05ec0c0cacb9",
   "metadata": {
    "editable": true,
    "slideshow": {
     "slide_type": ""
    },
    "tags": []
   },
   "source": [
    "Отлаживаемся, естественно, прямо здесь:\n",
    "\n",
    "* ячейка ниже (через ASM) генерирует два файла\n",
    "    * lit.py: модуль, обеспечивающий возможность обработки литературных ноутбуков (преобразования их в ASM ноутбуки)\n",
    "    * test_lit.py: тесты для этого модуля\n",
    "* при запуске тестов (из test_lit.py)\n",
    "    * провевряем, что ничего не сломали \n",
    "    * один из тестов обрабатывает литературный тестовый ноутбук: lit.genAsmNotebook(\"../Examples/lit_smoke.ipynb\")\n",
    "        * в результате получается ASM ноутбук (lit_smoke_asm.ipynb) - дополнительный \"интеграционный\" тест\n",
    "        * его можно ASM-ом преобразовать в модуль (lit_smoke.py)"
   ]
  },
  {
   "cell_type": "code",
   "execution_count": 1,
   "id": "fece4aa9-344b-43e0-9de0-26a6e9bcb253",
   "metadata": {
    "editable": true,
    "slideshow": {
     "slide_type": ""
    },
    "tags": []
   },
   "outputs": [],
   "source": [
    "import asm"
   ]
  },
  {
   "cell_type": "code",
   "execution_count": 4,
   "id": "bd10886e-431f-4dc2-9da3-950c66cbdc4e",
   "metadata": {
    "editable": true,
    "slideshow": {
     "slide_type": ""
    },
    "tags": []
   },
   "outputs": [
    {
     "name": "stdout",
     "output_type": "stream",
     "text": [
      "\u001b[1m============================= test session starts ==============================\u001b[0m\n",
      "platform linux -- Python 3.11.8, pytest-8.1.1, pluggy-1.4.0\n",
      "rootdir: /home/korolmi/Work/GitSrc/lit_notebooks/lit_notebooks/Src\n",
      "plugins: anyio-4.3.0\n",
      "collected 10 items                                                             \u001b[0m\n",
      "\n",
      "test_lit.py \u001b[32m.\u001b[0m\u001b[32m.\u001b[0m\u001b[32m.\u001b[0m\u001b[32m.\u001b[0m\u001b[32m.\u001b[0m\u001b[32m.\u001b[0m\u001b[32m.\u001b[0m\u001b[32m.\u001b[0m\u001b[32m.\u001b[0m\u001b[32m.\u001b[0m\u001b[32m                                                   [100%]\u001b[0m\n",
      "\n",
      "\u001b[32m============================== \u001b[32m\u001b[1m10 passed\u001b[0m\u001b[32m in 0.06s\u001b[0m\u001b[32m ==============================\u001b[0m\n"
     ]
    }
   ],
   "source": [
    "asm.processFile(\"lit_asm.ipynb\")\n",
    "asm.processFile(\"lit_asm.ipynb\",\"test\")\n",
    "!pytest test_lit.py"
   ]
  },
  {
   "cell_type": "markdown",
   "id": "dfbeb843-9569-425d-b542-e715b7c16046",
   "metadata": {
    "editable": true,
    "slideshow": {
     "slide_type": ""
    },
    "tags": []
   },
   "source": [
    "## Код (в ассемблерном виде)"
   ]
  },
  {
   "cell_type": "markdown",
   "id": "9976f36e-c159-4ec6-be30-3c983699746d",
   "metadata": {
    "editable": true,
    "slideshow": {
     "slide_type": ""
    },
    "tags": []
   },
   "source": [
    "Функции `procXXX` формируют пары (тэг, список строк) = заготовки для кодовых ячеек ASM ноутбука.\n",
    "\n",
    "Функциям передается\n",
    "\n",
    "* содержимое ячейки (то, что в \"source\" ноутбука)\n",
    "* тэг (вдруг обработка зависит от этого)\n",
    "* \"контекст\" (**kwargs) - содержимое контекста\n",
    "    * возникло из необходимости знать имя текущей функции\n",
    "    * может помочь в делании опциональным тэга return \n",
    "\n",
    "Обработка литературного ноутбука будет происходить в два этапа\n",
    "\n",
    "* asmNotebook = genAsmNotebook(litNotebook): генерация ASM ноутбука\n",
    "* asm.processFile(asmNoteebook)\n",
    "* asm.processFile(asmNoteebook, \"test\")\n",
    "\n",
    "Список поддерживаемых (обрабатываемых) тэгов - см. функцию `genAsmNotebook()`."
   ]
  },
  {
   "cell_type": "markdown",
   "id": "e21144b7-0742-47f5-b5d4-1be16f030b41",
   "metadata": {
    "editable": true,
    "jp-MarkdownHeadingCollapsed": true,
    "slideshow": {
     "slide_type": ""
    },
    "tags": []
   },
   "source": [
    "### _getFuncName: utility functions"
   ]
  },
  {
   "cell_type": "markdown",
   "id": "70b31357-9461-4b2c-b299-14b9cb544268",
   "metadata": {
    "editable": true,
    "slideshow": {
     "slide_type": ""
    },
    "tags": []
   },
   "source": [
    "Выдирает имя функции из ячейки с тэгом `function` (см. описание формата и примеры в procFuncTag() ниже)"
   ]
  },
  {
   "cell_type": "markdown",
   "id": "4d3aa47f-001c-43de-91f1-e7811164366e",
   "metadata": {
    "editable": true,
    "slideshow": {
     "slide_type": ""
    },
    "tags": []
   },
   "source": [
    "#### Source"
   ]
  },
  {
   "cell_type": "code",
   "execution_count": null,
   "id": "59b2534e-5efc-4269-8a90-02666965e452",
   "metadata": {
    "editable": true,
    "slideshow": {
     "slide_type": ""
    },
    "tags": [
     "mod"
    ]
   },
   "outputs": [],
   "source": [
    "def _getFuncName(cellContent):\n",
    "\n",
    "    # разбирает содержимое\n",
    "    funcName = cellContent[0].split(\"## \")[1] # предполагаем, что может быть заголовком уровня 2 и выше\n",
    "    funcName = funcName.split(\"::\")[0] # возможен комментарий, его убираем\n",
    "    return funcName.strip() # убираем пробелы, если есть"
   ]
  },
  {
   "cell_type": "markdown",
   "id": "0960f27a-24b3-4d79-8cc9-0686f3e4c739",
   "metadata": {
    "editable": true,
    "slideshow": {
     "slide_type": ""
    },
    "tags": []
   },
   "source": [
    "#### Tests"
   ]
  },
  {
   "cell_type": "code",
   "execution_count": null,
   "id": "6d5a353c-a172-4ad5-8da8-b4a4b57f5b57",
   "metadata": {
    "editable": true,
    "slideshow": {
     "slide_type": ""
    },
    "tags": [
     "test"
    ]
   },
   "outputs": [],
   "source": [
    "def test_getFuncName_smoke():\n",
    "\n",
    "    assert lit._getFuncName([\"#### GenSomething:: Эта функция делает что-то...\"])==\"GenSomething\""
   ]
  },
  {
   "cell_type": "markdown",
   "id": "465282af-f1bc-49b2-8e1f-52e33d7c092d",
   "metadata": {
    "editable": true,
    "jp-MarkdownHeadingCollapsed": true,
    "slideshow": {
     "slide_type": ""
    },
    "tags": []
   },
   "source": [
    "### procFuncTag"
   ]
  },
  {
   "cell_type": "markdown",
   "id": "21d8fbd2-316e-4a0b-8e80-d0e010e49757",
   "metadata": {
    "editable": true,
    "slideshow": {
     "slide_type": ""
    },
    "tags": []
   },
   "source": [
    "Функция обработки ячейки с заголовком \n",
    "\n",
    "* класса\n",
    "* функции\n",
    "* метода\n",
    "* теста"
   ]
  },
  {
   "cell_type": "markdown",
   "id": "c22f0e15-bfd5-4d7d-ba7e-352d9a9926d9",
   "metadata": {
    "editable": true,
    "slideshow": {
     "slide_type": ""
    },
    "tags": []
   },
   "source": [
    "Предполагаемый формат\n",
    "\n",
    "    {Решетки} {имя функции или класса} [:: {описание функции или класса}]\n",
    "\n",
    "где\n",
    "\n",
    "* решетки: маркдаун заголовок уровня 2+\n",
    "* имя (функции)\n",
    "* описание (функции): должно помещаться на одну строку\n",
    "* лексемы разделяются пробелами\n",
    "* описание игнорируется\n",
    "  \n",
    "Пример\n",
    "\n",
    "    #### GenSomething:: Эта функция делает что-то... (описание функции)\n",
    "    \n",
    "Результат\n",
    "\n",
    "для функции\n",
    "\n",
    "    def GenSomething(\n",
    "\n",
    "и возвращается тэг mod\n",
    "\n",
    "для класса\n",
    "\n",
    "    class GenSomething:\n",
    "\n",
    "и возвращается тэг mod\n",
    "\n",
    "для метода\n",
    "\n",
    "        def GenSomething(self,\n",
    "\n",
    "и возвращается тэг mod\n",
    "\n",
    "для теста\n",
    "\n",
    "    def test_CurrentFunction_GenSomething(\n",
    "\n",
    "и возвращается тэг test\n",
    "\n",
    "Имя текущей функции передается через параметр `func` контекста (и должно присутствовать в контексте)"
   ]
  },
  {
   "cell_type": "markdown",
   "id": "a537841b-ad8a-4cfc-bfba-ca9ab320b148",
   "metadata": {
    "editable": true,
    "slideshow": {
     "slide_type": ""
    },
    "tags": []
   },
   "source": [
    "#### Source"
   ]
  },
  {
   "cell_type": "code",
   "execution_count": null,
   "id": "dddf90af-7676-4df2-86f3-3fb94e6e7a86",
   "metadata": {
    "editable": true,
    "slideshow": {
     "slide_type": ""
    },
    "tags": [
     "mod"
    ]
   },
   "outputs": [],
   "source": [
    "def procFuncTag(cellContent, tag, func, **kwargs):\n",
    "\n",
    "    # результат\n",
    "    match tag:\n",
    "        case \"function\":\n",
    "            return ( \"mod\", [f\"\"\"def {_getFuncName(cellContent)}(\"\"\"] )\n",
    "        case \"class\":\n",
    "            return ( \"mod\", [f\"\"\"class {_getFuncName(cellContent)}:\"\"\"] )\n",
    "        case \"method\":\n",
    "            return ( \"mod\", [f\"\"\"    def {_getFuncName(cellContent)}(self,\"\"\"] )\n",
    "        case \"testdef\":\n",
    "            return ( \"test\", [f\"\"\"def test_{func}_{_getFuncName(cellContent)}(\"\"\"] )"
   ]
  },
  {
   "cell_type": "markdown",
   "id": "623a0622-4c68-4a0d-a5a4-1062e5a3bb63",
   "metadata": {
    "editable": true,
    "slideshow": {
     "slide_type": ""
    },
    "tags": []
   },
   "source": [
    "#### Tests"
   ]
  },
  {
   "cell_type": "code",
   "execution_count": null,
   "id": "951ddaa6-6726-416c-a87f-d1d134e3620c",
   "metadata": {
    "editable": true,
    "slideshow": {
     "slide_type": ""
    },
    "tags": [
     "test"
    ]
   },
   "outputs": [],
   "source": [
    "def test_procFuncTag_smoke():\n",
    "\n",
    "    assert lit.procFuncTag([\"#### GenSomething:: Эта функция делает что-то...\"],tag=\"function\",func=\"GenSomething\")==(\"mod\",[\"def GenSomething(\"])"
   ]
  },
  {
   "cell_type": "code",
   "execution_count": null,
   "id": "a7ca459c-991b-4ab1-8297-04553d2059c3",
   "metadata": {
    "editable": true,
    "slideshow": {
     "slide_type": ""
    },
    "tags": [
     "test"
    ]
   },
   "outputs": [],
   "source": [
    "def test_procFuncTag_test_smoke():\n",
    "\n",
    "    assert lit.procFuncTag([\"#### GenSomething:: Этот тест проверяет что-то...\"],tag=\"testdef\",func=\"FUNC\")==(\"test\",[\"def test_FUNC_GenSomething(\"])"
   ]
  },
  {
   "cell_type": "markdown",
   "id": "fc535737-c43f-4a2c-b4f4-d84f63606cef",
   "metadata": {
    "editable": true,
    "jp-MarkdownHeadingCollapsed": true,
    "slideshow": {
     "slide_type": ""
    },
    "tags": []
   },
   "source": [
    "### procParamTag"
   ]
  },
  {
   "cell_type": "markdown",
   "id": "6857585c-b3ba-40a7-aef5-848b47f59e68",
   "metadata": {
    "editable": true,
    "slideshow": {
     "slide_type": ""
    },
    "tags": []
   },
   "source": [
    "Обработка параметра функции или теста"
   ]
  },
  {
   "cell_type": "markdown",
   "id": "70aa8cda-2f17-4393-8047-c24dbb5308fe",
   "metadata": {
    "editable": true,
    "slideshow": {
     "slide_type": ""
    },
    "tags": []
   },
   "source": [
    "Предполагаемый формат\n",
    "\n",
    "    {имя параметра} [:тип] [= начальное значение] [:: комментарий]\n",
    "\n",
    "Где\n",
    "\n",
    "* все, кроме имени параметра, опционально, но должно поместиться на одну строку\n",
    "\n",
    "Важно: до \"комментария\" сохранен синтаксис питона, поэтому все просто переносится как есть.\n",
    "\n",
    "Пример\n",
    "\n",
    "    numInst: int = 4:: сколько штук нужно сгенерировать\n",
    "    \n",
    "Результат\n",
    "\n",
    "    {индент}numInst: int = 4, "
   ]
  },
  {
   "cell_type": "markdown",
   "id": "abad6411-38d1-4fac-b9ca-7c0214d07f68",
   "metadata": {
    "editable": true,
    "slideshow": {
     "slide_type": ""
    },
    "tags": []
   },
   "source": [
    "#### Source"
   ]
  },
  {
   "cell_type": "code",
   "execution_count": null,
   "id": "84878b8c-46b0-4266-ba83-a21ad961874f",
   "metadata": {
    "editable": true,
    "slideshow": {
     "slide_type": ""
    },
    "tags": [
     "mod"
    ]
   },
   "outputs": [],
   "source": [
    "def procParamTag(cellContent, tag, **kwargs):\n",
    "\n",
    "    # numInst -> int = 4:: сколько штук нужно сгенерировать\n",
    "    \n",
    "    # разбирает содержимое\n",
    "    parStr = cellContent[0].split(\"::\")[0] # возможен комментарий, его убираем\n",
    "\n",
    "    # результат\n",
    "    return ( \"test\" if tag==\"testparam\" else \"mod\", [f\"\"\"    {parStr},\"\"\"] )"
   ]
  },
  {
   "cell_type": "markdown",
   "id": "722f7f6f-1c1b-476d-9c1c-0ee4357e4854",
   "metadata": {
    "editable": true,
    "slideshow": {
     "slide_type": ""
    },
    "tags": []
   },
   "source": [
    "#### Tests"
   ]
  },
  {
   "cell_type": "code",
   "execution_count": 4,
   "id": "0827e10b-c751-44a3-ad63-bbe5506904ce",
   "metadata": {
    "editable": true,
    "slideshow": {
     "slide_type": ""
    },
    "tags": [
     "test"
    ]
   },
   "outputs": [],
   "source": [
    "def test_procParamTag_smoke():\n",
    "\n",
    "    assert lit.procParamTag([\"numInst: int = 4:: сколько штук нужно сгенерировать\"],tag=\"param\")==(\"mod\",[\"    numInst: int = 4,\"])"
   ]
  },
  {
   "cell_type": "code",
   "execution_count": 4,
   "id": "0dadcbf1-bbed-4ff8-9a34-517170e6b3c6",
   "metadata": {
    "editable": true,
    "slideshow": {
     "slide_type": ""
    },
    "tags": [
     "test"
    ]
   },
   "outputs": [],
   "source": [
    "def test_procParamTag_for_test():\n",
    "\n",
    "    assert lit.procParamTag([\"numInst: int = 4:: сколько штук нужно сгенерировать\"],tag=\"testparam\")==(\"test\",[\"    numInst: int = 4,\"])"
   ]
  },
  {
   "cell_type": "markdown",
   "id": "71b09b8a-7755-4061-9e99-63798e2d6da0",
   "metadata": {
    "editable": true,
    "jp-MarkdownHeadingCollapsed": true,
    "slideshow": {
     "slide_type": ""
    },
    "tags": []
   },
   "source": [
    "### procReturnTag"
   ]
  },
  {
   "cell_type": "markdown",
   "id": "8c366296-916d-45e0-9510-f5c2dc2fbef6",
   "metadata": {
    "editable": true,
    "slideshow": {
     "slide_type": ""
    },
    "tags": []
   },
   "source": [
    "Обработка результата функции или метода"
   ]
  },
  {
   "cell_type": "markdown",
   "id": "842639ea-6a66-49f6-9bac-1220fd97cf2c",
   "metadata": {
    "editable": true,
    "slideshow": {
     "slide_type": ""
    },
    "tags": []
   },
   "source": [
    "Предполагаемый формат\n",
    "\n",
    "    [тип] [:: комментарий]\n",
    "\n",
    "Где\n",
    "\n",
    "* все опционально, но должно поместиться на одну строку\n",
    "\n",
    "Если не хочется описывать результат, то можно оставить пустую строку с тэгом `return` или не использовать его вообще...\n",
    "\n",
    "Пример\n",
    "\n",
    "    int:: вычисленный факториал числа\n",
    "    \n",
    "Результат\n",
    "\n",
    "    ) -> int: \n",
    "\n",
    "В случае обработки метода (берем из контекста) добавляется индент."
   ]
  },
  {
   "cell_type": "markdown",
   "id": "e19a0a06-1397-4c9f-b934-7118071316db",
   "metadata": {
    "editable": true,
    "slideshow": {
     "slide_type": ""
    },
    "tags": []
   },
   "source": [
    "#### Source"
   ]
  },
  {
   "cell_type": "code",
   "execution_count": null,
   "id": "7486b842-a295-4936-9f0b-897a150d2f5a",
   "metadata": {
    "editable": true,
    "slideshow": {
     "slide_type": ""
    },
    "tags": [
     "mod"
    ]
   },
   "outputs": [],
   "source": [
    "def procReturnTag(cellContent, tag, isMethod, **kwargs):\n",
    "\n",
    "    # int:: вычисленный факториал числа\n",
    "    \n",
    "    # разбирает содержимое\n",
    "    retStr = cellContent[0].split(\"::\")[0].strip() # возможен комментарий, его убираем\n",
    "\n",
    "    if len(retStr)>0:\n",
    "        retStr = f\" -> {retStr}\"\n",
    "        \n",
    "    # результат\n",
    "    indent = \"\"\n",
    "    if isMethod:\n",
    "        indent = \"    \"\n",
    "    return ( \"mod\", [f\"\"\"{indent}){retStr}:\"\"\"] )"
   ]
  },
  {
   "cell_type": "markdown",
   "id": "9e4c144d-de1e-4792-8717-66fb1fcf151c",
   "metadata": {
    "editable": true,
    "slideshow": {
     "slide_type": ""
    },
    "tags": []
   },
   "source": [
    "#### Tests"
   ]
  },
  {
   "cell_type": "code",
   "execution_count": 4,
   "id": "8e23fa53-71b1-4a31-87df-787d0870b33b",
   "metadata": {
    "editable": true,
    "slideshow": {
     "slide_type": ""
    },
    "tags": [
     "test"
    ]
   },
   "outputs": [],
   "source": [
    "def test_procReturnTag_smoke():\n",
    "\n",
    "    assert lit.procReturnTag([\"int:: вычисленный факториал числа\"],tag=\"return\",isMethod=False)==(\"mod\",[\") -> int:\"])"
   ]
  },
  {
   "cell_type": "markdown",
   "id": "4f4708b5-0990-4e47-8f3b-759a4b2d2b11",
   "metadata": {
    "editable": true,
    "jp-MarkdownHeadingCollapsed": true,
    "slideshow": {
     "slide_type": ""
    },
    "tags": []
   },
   "source": [
    "### procBodyTag"
   ]
  },
  {
   "cell_type": "markdown",
   "id": "da51ee1f-a9d8-45ba-a10b-1570bc1e7335",
   "metadata": {
    "editable": true,
    "slideshow": {
     "slide_type": ""
    },
    "tags": []
   },
   "source": [
    "Обработка тела функции, метода, теста или блока кода верхнего уровня"
   ]
  },
  {
   "cell_type": "markdown",
   "id": "61114c06-a299-4e6d-8364-cde1023305e5",
   "metadata": {
    "editable": true,
    "slideshow": {
     "slide_type": ""
    },
    "tags": []
   },
   "source": [
    "Предполагаемый формат\n",
    "\n",
    "    {тело функции}\n",
    "    \n",
    "Важно: все просто переносится как есть, каждая строка индентируется.\n",
    "\n",
    "Пример\n",
    "\n",
    "    print(123)\n",
    "    print(4)\n",
    "    \n",
    "Результат\n",
    "\n",
    "    {индент}print(123)\n",
    "    {индент}print(4)\n",
    "\n",
    "Для блока кода (тэг `block`) индент отсутствует.\n",
    "\n",
    "Для тела метода добавляется дополнительный индент."
   ]
  },
  {
   "cell_type": "markdown",
   "id": "82c26f6c-7834-4b12-8267-51c0d460b18e",
   "metadata": {
    "editable": true,
    "slideshow": {
     "slide_type": ""
    },
    "tags": []
   },
   "source": [
    "**В отсутствие тэга return**\n",
    "\n",
    "Необходимо добавить закрывающую скобку и двоеточие - корректно завершить определение функции."
   ]
  },
  {
   "cell_type": "markdown",
   "id": "3eebbee8-19c4-421d-b3d0-318f70af6f1f",
   "metadata": {
    "editable": true,
    "slideshow": {
     "slide_type": ""
    },
    "tags": []
   },
   "source": [
    "**Для тестов**\n",
    "\n",
    "Необходимо возвращать тэг test"
   ]
  },
  {
   "cell_type": "markdown",
   "id": "bb4f53e9-adad-4105-87fb-810207d7f0d4",
   "metadata": {
    "editable": true,
    "slideshow": {
     "slide_type": ""
    },
    "tags": []
   },
   "source": [
    "#### Source"
   ]
  },
  {
   "cell_type": "code",
   "execution_count": null,
   "id": "998b79aa-4f3d-48fa-8136-18c8069236c7",
   "metadata": {
    "editable": true,
    "slideshow": {
     "slide_type": ""
    },
    "tags": [
     "mod"
    ]
   },
   "outputs": [],
   "source": [
    "def procBodyTag(cellContent, tag, **kwargs):\n",
    "\n",
    "    lines = []\n",
    "    indent = \"    \"\n",
    "\n",
    "    # добавляем завершение заголовка функции\n",
    "    if not kwargs[\"wasReturn\"]:\n",
    "        valStr = \"):\\n\"\n",
    "        if tag==\"methodbody\":\n",
    "            valStr = indent + valStr\n",
    "        lines.append(valStr)\n",
    "        \n",
    "    # разбираем содержимое\n",
    "    if tag in [\"block\",\"testblock\"]: # не добавляем выравнивание\n",
    "        indent = \"\"\n",
    "    if tag==\"methodbody\": # удваиваем выравнивание\n",
    "        indent = indent + indent\n",
    "    for ln in cellContent:\n",
    "        lines.append(indent+ln) # копируем строки, добавляя выравнивание если нужно\n",
    "\n",
    "    # результат\n",
    "    return ( \"test\" if tag in [\"testbody\",\"testblock\"] else \"mod\", lines )"
   ]
  },
  {
   "cell_type": "markdown",
   "id": "35a44157-a999-4ec0-abcc-7aeaf5aa3680",
   "metadata": {},
   "source": [
    "#### Tests"
   ]
  },
  {
   "cell_type": "code",
   "execution_count": null,
   "id": "045fdc26-4639-4cb1-bedc-a89c97df835d",
   "metadata": {
    "editable": true,
    "slideshow": {
     "slide_type": ""
    },
    "tags": [
     "test"
    ]
   },
   "outputs": [],
   "source": [
    "def test_procBodyTag_smoke():\n",
    "\n",
    "    assert lit.procBodyTag(\n",
    "        [\n",
    "            \"print(123)\\n\",\n",
    "            \"print(4)\"\n",
    "        ],\n",
    "        tag=\"body\",\n",
    "        wasReturn=True\n",
    "    ) == (\n",
    "        \"mod\",\n",
    "        [\n",
    "            \"    print(123)\\n\",\n",
    "            \"    print(4)\"\n",
    "        ]\n",
    "    )"
   ]
  },
  {
   "cell_type": "code",
   "execution_count": null,
   "id": "910ab296-cb17-4e5e-908d-91712f1354ab",
   "metadata": {
    "editable": true,
    "slideshow": {
     "slide_type": ""
    },
    "tags": [
     "test"
    ]
   },
   "outputs": [],
   "source": [
    "def test_procBodyTag_testbody_smoke():\n",
    "\n",
    "    assert lit.procBodyTag(\n",
    "        [\n",
    "            \"print(123)\\n\",\n",
    "            \"print(4)\"\n",
    "        ],\n",
    "        tag=\"testbody\",\n",
    "        wasReturn=True\n",
    "    ) == (\n",
    "        \"test\",\n",
    "        [\n",
    "            \"    print(123)\\n\",\n",
    "            \"    print(4)\"\n",
    "        ]\n",
    "    )"
   ]
  },
  {
   "cell_type": "code",
   "execution_count": null,
   "id": "10922875-46ca-4e20-afc4-9bcef52e68b8",
   "metadata": {
    "editable": true,
    "slideshow": {
     "slide_type": ""
    },
    "tags": [
     "test"
    ]
   },
   "outputs": [],
   "source": [
    "def test_procBodyTag_no_return():\n",
    "\n",
    "    assert lit.procBodyTag(\n",
    "        [\n",
    "            \"print(123)\\n\",\n",
    "            \"print(4)\"\n",
    "        ],\n",
    "        tag=\"body\",\n",
    "        wasReturn=False\n",
    "    ) == (\n",
    "        \"mod\",\n",
    "        [\n",
    "            \"):\\n\",\n",
    "            \"    print(123)\\n\",\n",
    "            \"    print(4)\"\n",
    "        ]\n",
    "    )"
   ]
  },
  {
   "cell_type": "markdown",
   "id": "480747a2-70c9-4f3e-b6fb-6192bdca4d94",
   "metadata": {
    "editable": true,
    "jp-MarkdownHeadingCollapsed": true,
    "slideshow": {
     "slide_type": ""
    },
    "tags": []
   },
   "source": [
    "### genAsmNotebook"
   ]
  },
  {
   "cell_type": "markdown",
   "id": "9cbb8814-3355-4574-beba-e414c87de1ec",
   "metadata": {
    "editable": true,
    "slideshow": {
     "slide_type": ""
    },
    "tags": []
   },
   "source": [
    "Функция генерации ASM ноутбука по литературному\n",
    "\n",
    "* на вход подается имя литературного ноутбука\n",
    "* результат - имя ASM ноутбука (скорее - для отладки: = лит_asm.ipynb)\n",
    "\n",
    "В качестве побочного результата - сам ноутбук."
   ]
  },
  {
   "cell_type": "markdown",
   "id": "b3e2ba8a-a5ca-4c98-9330-f9ceadede253",
   "metadata": {
    "editable": true,
    "slideshow": {
     "slide_type": ""
    },
    "tags": []
   },
   "source": [
    "Суть обработки настроена в этом словаре"
   ]
  },
  {
   "cell_type": "code",
   "execution_count": null,
   "id": "29da2002-c5ba-416c-bf5d-0fe1a2dd0311",
   "metadata": {
    "editable": true,
    "slideshow": {
     "slide_type": ""
    },
    "tags": [
     "mod"
    ]
   },
   "outputs": [],
   "source": [
    "tag2Func = {\n",
    "    \"function\": procFuncTag,\n",
    "    \"param\": procParamTag,\n",
    "    \"testparam\": procParamTag,    \n",
    "    \"return\": procReturnTag,\n",
    "    \"body\": procBodyTag,\n",
    "    \"testbody\": procBodyTag,\n",
    "    \"testdef\": procFuncTag,\n",
    "    \"block\": procBodyTag,\n",
    "    \"testblock\": procBodyTag,\n",
    "    \"class\": procFuncTag,\n",
    "    \"method\": procFuncTag,\n",
    "    \"methodbody\": procBodyTag,\n",
    "}"
   ]
  },
  {
   "cell_type": "markdown",
   "id": "fc0ded53-c12c-4617-af18-97385e24dc86",
   "metadata": {
    "editable": true,
    "slideshow": {
     "slide_type": ""
    },
    "tags": []
   },
   "source": [
    "**Контекст**\n",
    "\n",
    "Для некоторых конструкций (заголовок теста, опциональность тэга return) необходимо в вызовы procXXX() передавать \"контекст\".\n",
    "\n",
    "Пока в словаре контекста содержится\n",
    "\n",
    "* func: имя текущей обрабатываемой функции\n",
    "* isMethod: обрабатываем метод класса (для выравнивания закрывающей скобки списка параметров ) \n",
    "* wasReturn: наличие тэга return для обрабатываемой функции\n",
    "    * сбрасывается во время обработки тэгов function или testdef "
   ]
  },
  {
   "cell_type": "markdown",
   "id": "c3f855dc-e2e8-45cc-be01-8729d8d3fa99",
   "metadata": {
    "editable": true,
    "slideshow": {
     "slide_type": ""
    },
    "tags": []
   },
   "source": [
    "#### Source"
   ]
  },
  {
   "cell_type": "code",
   "execution_count": null,
   "id": "b75023e5-f5cc-4228-a683-2cc2f44784bb",
   "metadata": {
    "editable": true,
    "slideshow": {
     "slide_type": ""
    },
    "tags": [
     "mod"
    ]
   },
   "outputs": [],
   "source": [
    "import json, os\n",
    "\n",
    "def genAsmNotebook(litNb):\n",
    "\n",
    "    with open(litNb,\"r\") as fp:\n",
    "        js = json.load(fp)\n",
    "\n",
    "    cells = js[\"cells\"] # больше нам ничего не нужно - массив ячеек\n",
    "    asmCells = []\n",
    "    curFuncName = \"\"\n",
    "    wasReturn = True # с таким значением не будет происходить генерации лишнего для блоков кода (типа import)        \n",
    "    isMethod = False\n",
    "    for cell in cells:\n",
    "        if \"tags\" not in cell[\"metadata\"]: # ячейки без тэгов пропускаем\n",
    "            continue\n",
    "        for tag in cell[\"metadata\"][\"tags\"]: # пока нет смысла давать ячейкам более одного тэга (видимо), но все же цикл...\n",
    "            if tag==\"function\" or tag==\"method\": # запомним в контексте имя функции\n",
    "                curFuncName = _getFuncName(cell[\"source\"])\n",
    "                if tag==\"function\": # обрабатываем не метод\n",
    "                    isMethod = False\n",
    "                else:\n",
    "                    isMethod = True\n",
    "            if tag in [\"function\",\"method\",\"testdef\"]: # сбросим информацию о наличии тэга return\n",
    "                wasReturn = False    \n",
    "            if tag==\"return\": # запомним в контексте наличие return\n",
    "                wasReturn = True\n",
    "            if tag in [\"test\",\"mod\",\"mdef\"] or tag.find(\"mac.\")==0: # пробрасываем ячейку как есть в asm ноутбук\n",
    "                asmCells.append(cell)\n",
    "            if tag in tag2Func.keys():\n",
    "                cellTag,cellCode = tag2Func[tag](cell[\"source\"],tag,func=curFuncName,wasReturn=wasReturn,isMethod=isMethod)\n",
    "                newCell = {\n",
    "                   \"cell_type\": \"code\",\n",
    "                   # \"execution_count\": null,\n",
    "                   \"metadata\": {\n",
    "                        \"editable\": True,\n",
    "                        \"tags\": [ cellTag ],\n",
    "                   },\n",
    "                   \"outputs\": [],\n",
    "                   \"source\": cellCode\n",
    "                }\n",
    "                asmCells.append(newCell)\n",
    "                if tag in [\"body\",\"testbody\",\"methodbody\"]: # обработали тело, надо сбросить необходимость добаления ):\n",
    "                    wasReturn = True\n",
    "\n",
    "    # сохраняем результат\n",
    "    dirName,fileName = os.path.split(litNb)\n",
    "    baseName = fileName.split(\".ipynb\")[0]\n",
    "    resName = baseName+\"_asm\"\n",
    "    resFile = os.path.join(dirName,resName+\".ipynb\")\n",
    "\n",
    "    js[\"cells\"] = asmCells\n",
    "    with open(resFile,\"w\") as fp:\n",
    "        json.dump(js,fp)\n",
    "\n",
    "    return resFile"
   ]
  },
  {
   "cell_type": "markdown",
   "id": "6fd8cf6b-3635-4477-9f98-5c49d6ff0a7a",
   "metadata": {
    "editable": true,
    "slideshow": {
     "slide_type": ""
    },
    "tags": []
   },
   "source": [
    "#### Tests"
   ]
  },
  {
   "cell_type": "markdown",
   "id": "1e7bb684-d5ed-4c45-bbae-a7a73c10a90f",
   "metadata": {
    "editable": true,
    "slideshow": {
     "slide_type": ""
    },
    "tags": []
   },
   "source": [
    "Тестов на эту функцию особо не придмаешь - сложно получается (может, потом).\n",
    "\n",
    "Пока здесь просто вызов, чтобы можно было отлаживаться прям в этом ноутбуке, и чтобы тест порождал файл."
   ]
  },
  {
   "cell_type": "code",
   "execution_count": null,
   "id": "2bb872fc-6fea-4cff-a358-7b28f25eb235",
   "metadata": {
    "editable": true,
    "slideshow": {
     "slide_type": ""
    },
    "tags": [
     "test"
    ]
   },
   "outputs": [],
   "source": [
    "def test_genAsmNotebook_smoke():\n",
    "\n",
    "    assert lit.genAsmNotebook(\"../Examples/lit_smoke.ipynb\")==\"../Examples/lit_smoke_asm.ipynb\""
   ]
  },
  {
   "cell_type": "markdown",
   "id": "3fc71337-a117-4777-b797-152dcac8fa5a",
   "metadata": {
    "editable": true,
    "jp-MarkdownHeadingCollapsed": true,
    "slideshow": {
     "slide_type": ""
    },
    "tags": []
   },
   "source": [
    "### genFuncSpec"
   ]
  },
  {
   "cell_type": "markdown",
   "id": "aedf8765-8386-4c3a-8ddb-e341479abf35",
   "metadata": {
    "editable": true,
    "slideshow": {
     "slide_type": ""
    },
    "tags": []
   },
   "source": [
    "Функция генерации спецификации функции литературного ноутбука\n",
    "\n",
    "* на вход подается имя литературного ноутбука и имя функции\n",
    "* результат - строка спецификации для генерации кода функции роботом\n",
    "\n",
    "Пока в коде пока вырезал обработку методов ..."
   ]
  },
  {
   "cell_type": "markdown",
   "id": "a09c90c4-e796-4ff0-9d0b-fc808814bbcb",
   "metadata": {
    "editable": true,
    "slideshow": {
     "slide_type": ""
    },
    "tags": []
   },
   "source": [
    "#### Source"
   ]
  },
  {
   "cell_type": "code",
   "execution_count": null,
   "id": "3cc5f942-a6c8-4366-bcf6-14ca5286896a",
   "metadata": {
    "editable": true,
    "slideshow": {
     "slide_type": ""
    },
    "tags": [
     "mod"
    ]
   },
   "outputs": [],
   "source": [
    "def genFuncSpec(litNb,fName,addTask=True):\n",
    "\n",
    "    with open(litNb,\"r\") as fp:\n",
    "        js = json.load(fp)\n",
    "\n",
    "    cells = js[\"cells\"] # больше нам ничего не нужно - массив ячеек\n",
    "    lnList = []\n",
    "    parList = []\n",
    "    retList = []\n",
    "    testList = []\n",
    "    docStr = \"\"\n",
    "    toBreak = False\n",
    "    for cell in cells:\n",
    "        if toBreak:\n",
    "            break\n",
    "        if \"tags\" not in cell[\"metadata\"]: # ячейки без тэгов пропускаем\n",
    "            continue\n",
    "        for tag in cell[\"metadata\"][\"tags\"]: # пока нет смысла давать ячейкам более одного тэга (видимо), но все же цикл...\n",
    "            if tag in [\"function\",\"class\"]:\n",
    "                if _getFuncName(cell[\"source\"])==fName: # наша функция\n",
    "                    lnList.append(f\"функция {fName}:\\n\")\n",
    "                    continue\n",
    "                else: # другая\n",
    "                    if lnList: # нашу функцию уже обработали\n",
    "                        toBreak = True\n",
    "            if lnList: # обрабатываем описание нашей функции\n",
    "                if tag==\"doc\":\n",
    "                    lnList += [\"\".join(cell[\"source\"])]\n",
    "                if tag==\"param\":\n",
    "                    if not parList:\n",
    "                        parList.append([\"Функция имеет следующие параметры:\"])\n",
    "                    parList.append([ \"* \" + ln for ln in cell[\"source\"]])\n",
    "                if tag==\"return\":\n",
    "                    if not retList:\n",
    "                        retList.append([\"Результатами функции должно быть:\"])\n",
    "                    retList.append([ \"* \" + ln for ln in cell[\"source\"]])\n",
    "                if tag==\"testbody\":\n",
    "                    if not testList:\n",
    "                        testList.append([\"Примеры использования (юнит-тесты - должны выполняться успешно):\"])\n",
    "                    testList.append(cell[\"source\"]) # список - тест может быть большим\n",
    "                    testList.append([\"\"]) # разделитель\n",
    "                    \n",
    "    resStr = \"\\n\".join(lnList)\n",
    "    if parList:\n",
    "        resStr += \"\\n\\n\" + \"\\n\".join([\"\\n\".join(pEl) for pEl in parList])\n",
    "    if retList:\n",
    "        resStr += \"\\n\\n\" + \"\\n\".join([\"\\n\".join(rEl) for rEl in retList])\n",
    "    if testList:\n",
    "        resStr += \"\\n\\n\" + \"\\n\\n\".join([\"\".join(tEl) for tEl in testList])\n",
    "\n",
    "    if addTask:\n",
    "        resStr += \"\\nмне нужен код функции на python\"\n",
    "        \n",
    "    return resStr"
   ]
  }
 ],
 "metadata": {
  "kernelspec": {
   "display_name": "Python 3 (ipykernel)",
   "language": "python",
   "name": "python3"
  },
  "language_info": {
   "codemirror_mode": {
    "name": "ipython",
    "version": 3
   },
   "file_extension": ".py",
   "mimetype": "text/x-python",
   "name": "python",
   "nbconvert_exporter": "python",
   "pygments_lexer": "ipython3",
   "version": "3.11.8"
  }
 },
 "nbformat": 4,
 "nbformat_minor": 5
}
